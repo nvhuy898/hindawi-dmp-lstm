{
 "cells": [
  {
   "cell_type": "code",
   "execution_count": null,
   "metadata": {
    "id": "5nzEWNhtJTCI"
   },
   "outputs": [],
   "source": [
    "from google.colab import drive\n",
    "drive.mount('/content/drive')"
   ]
  },
  {
   "cell_type": "code",
   "execution_count": null,
   "metadata": {
    "id": "4zlo73lRJxop"
   },
   "outputs": [],
   "source": [
    "cd /content/drive/MyDrive/dmp/_RUN/DMP"
   ]
  },
  {
   "cell_type": "code",
   "execution_count": 1,
   "metadata": {
    "colab": {
     "background_save": true
    },
    "id": "IJvACpnhJIrt"
   },
   "outputs": [],
   "source": [
    "import numpy as np\n",
    "import matplotlib.pyplot as plt\n",
    "from sklearn.model_selection import train_test_split\n",
    "# import torch\n",
    "\n",
    "# from neupy import algorithms\n",
    "# from neupy.layers import *"
   ]
  },
  {
   "cell_type": "code",
   "execution_count": 4,
   "metadata": {
    "colab": {
     "background_save": true
    },
    "executionInfo": {
     "elapsed": 54,
     "status": "ok",
     "timestamp": 1636816486403,
     "user": {
      "displayName": "Huy Nguyễn",
      "photoUrl": "https://lh3.googleusercontent.com/a-/AOh14GhwWOqFYYhtkA6FZJIKjgt5PJ4rnAVd4XnnJNClyQ=s64",
      "userId": "17279195382004563950"
     },
     "user_tz": -420
    },
    "id": "xeXqsv6WJIrz"
   },
   "outputs": [
    {
     "data": {
      "text/plain": [
       "25"
      ]
     },
     "execution_count": 4,
     "metadata": {},
     "output_type": "execute_result"
    }
   ],
   "source": [
    "import numpy as np\n",
    "x0=0\n",
    "y0=0\n",
    "d=5\n",
    "def get_endpoint(x0=0,y0=0,z0=0,d=5,n=5):\n",
    "    e=[]\n",
    "    for i in range(n):\n",
    "        for j in range(n):\n",
    "            if i%2==0:\n",
    "                e.append([x0+j*d,y0+i*d,z0])\n",
    "            else:\n",
    "                e.append([x0+(n-1)*d-j*d,y0+i*d,z0])\n",
    "    return np.array(e)\n",
    "e=get_endpoint(x0=-175,y0=125 ,z0=450,d=30, n=3)\n",
    "np.savetxt('D:/nvh/DMP/_RUN/IK/end.txt',e)\n",
    "len(e)\n",
    "# q=np.loadtxt(\"D:/nvh/DMP/_RUN/IK/q_e.txt\")\n",
    "# endp=np.loadtxt('D:/nvh/DMP/_RUN/IK/endpoint.txt')\n",
    "# qfile=np.loadtxt(\"D:/nvh/DMP/_RUN/IK/q_e.txt\")\n",
    "# print(endp.shape)\n",
    "# print(qfile.shape)\n",
    "# x_train, x_test, y_train, y_test=train_test_split(endp,qfile, test_size=0.2)\n"
   ]
  },
  {
   "cell_type": "code",
   "execution_count": 6,
   "metadata": {
    "colab": {
     "background_save": true
    },
    "executionInfo": {
     "elapsed": 53,
     "status": "ok",
     "timestamp": 1636816486404,
     "user": {
      "displayName": "Huy Nguyễn",
      "photoUrl": "https://lh3.googleusercontent.com/a-/AOh14GhwWOqFYYhtkA6FZJIKjgt5PJ4rnAVd4XnnJNClyQ=s64",
      "userId": "17279195382004563950"
     },
     "user_tz": -420
    },
    "id": "XxzCBoxKJIr1"
   },
   "outputs": [],
   "source": [
    "# class Net(torch.nn.Module):\n",
    "#     def __init__(self, D_in, H, D_out):\n",
    "#         super(Net, self).__init__()\n",
    "#         self.linear1 = torch.nn.Linear(D_in, H)\n",
    "#         self.sigmoid=torch.nn.Sigmoid()\n",
    "#         self.linear2 = torch.nn.Linear(H, D_out)\n",
    "\n",
    "#     def forward(self, x):\n",
    "  \n",
    "#         x = self.linear1(x)\n",
    "#         x=self.sigmoid(x)\n",
    "#         x = self.linear2(x)\n",
    "#         return x\n",
    "# device = \"cuda\" if torch.cuda.is_available() else \"cpu\"\n",
    "# net=Net(3,7,5).to(device)\n",
    "# print(net)"
   ]
  },
  {
   "cell_type": "code",
   "execution_count": 2,
   "metadata": {
    "colab": {
     "background_save": true
    },
    "executionInfo": {
     "elapsed": 52,
     "status": "ok",
     "timestamp": 1636816486405,
     "user": {
      "displayName": "Huy Nguyễn",
      "photoUrl": "https://lh3.googleusercontent.com/a-/AOh14GhwWOqFYYhtkA6FZJIKjgt5PJ4rnAVd4XnnJNClyQ=s64",
      "userId": "17279195382004563950"
     },
     "user_tz": -420
    },
    "id": "0IlRE04XJIr2"
   },
   "outputs": [],
   "source": [
    "import numpy as np"
   ]
  },
  {
   "cell_type": "code",
   "execution_count": 3,
   "metadata": {
    "colab": {
     "background_save": true
    },
    "executionInfo": {
     "elapsed": 5028,
     "status": "ok",
     "timestamp": 1636816491383,
     "user": {
      "displayName": "Huy Nguyễn",
      "photoUrl": "https://lh3.googleusercontent.com/a-/AOh14GhwWOqFYYhtkA6FZJIKjgt5PJ4rnAVd4XnnJNClyQ=s64",
      "userId": "17279195382004563950"
     },
     "user_tz": -420
    },
    "id": "Bw15AtQAKFiW"
   },
   "outputs": [],
   "source": [
    "e=np.loadtxt('../IK/QD.txt')\n",
    "q=np.loadtxt('../IK/IK.txt')\n",
    "omg=np.loadtxt('../IK/omg.txt')"
   ]
  },
  {
   "cell_type": "code",
   "execution_count": 4,
   "metadata": {
    "colab": {
     "background_save": true,
     "base_uri": "https://localhost:8080/"
    },
    "executionInfo": {
     "elapsed": 3079,
     "status": "ok",
     "timestamp": 1636816494420,
     "user": {
      "displayName": "Huy Nguyễn",
      "photoUrl": "https://lh3.googleusercontent.com/a-/AOh14GhwWOqFYYhtkA6FZJIKjgt5PJ4rnAVd4XnnJNClyQ=s64",
      "userId": "17279195382004563950"
     },
     "user_tz": -420
    },
    "id": "aTtcTQ-RngLR"
   },
   "outputs": [],
   "source": [
    "w=[]\n",
    "for i in range(121):\n",
    "  for j in range(200):\n",
    "    w.append(omg[i:i+5])\n",
    "print(np.shape(w))"
   ]
  },
  {
   "cell_type": "code",
   "execution_count": 1,
   "metadata": {
    "colab": {
     "background_save": true,
     "base_uri": "https://localhost:8080/",
     "height": 162
    },
    "executionInfo": {
     "elapsed": 371,
     "status": "error",
     "timestamp": 1636816312447,
     "user": {
      "displayName": "Huy Nguyễn",
      "photoUrl": "https://lh3.googleusercontent.com/a-/AOh14GhwWOqFYYhtkA6FZJIKjgt5PJ4rnAVd4XnnJNClyQ=s64",
      "userId": "17279195382004563950"
     },
     "user_tz": -420
    },
    "id": "vpSgJpEG2svp"
   },
   "outputs": [],
   "source": []
  },
  {
   "cell_type": "code",
   "execution_count": 9,
   "metadata": {
    "colab": {
     "background_save": true,
     "base_uri": "https://localhost:8080/"
    },
    "executionInfo": {
     "elapsed": 12,
     "status": "ok",
     "timestamp": 1636816278364,
     "user": {
      "displayName": "Huy Nguyễn",
      "photoUrl": "https://lh3.googleusercontent.com/a-/AOh14GhwWOqFYYhtkA6FZJIKjgt5PJ4rnAVd4XnnJNClyQ=s64",
      "userId": "17279195382004563950"
     },
     "user_tz": -420
    },
    "id": "0PQgwMFUsj6b"
   },
   "outputs": [
    {
     "data": {
      "text/plain": [
       "(50000,)"
      ]
     },
     "execution_count": null,
     "metadata": {},
     "output_type": "execute_result"
    }
   ],
   "source": [
    "i=0\n",
    "omg[i:i+5].reshape(-1).shape"
   ]
  },
  {
   "cell_type": "code",
   "execution_count": null,
   "metadata": {
    "id": "ABclegVvqPHC"
   },
   "outputs": [],
   "source": [
    "y=[]\n",
    "for i in range(50):\n",
    "  # # print(i)\n",
    "  # a=q[i].reshape(-1)\n",
    "  # # print(len(a))\n",
    "  # b=np.array(w[i:i+5]).reshape(-1)\n",
    "  # print(len(b))\n",
    "  y.append(np.concatenate((q[i].reshape(-1), np.array(w[i:i+5]).reshape(-1)), axis=None))"
   ]
  },
  {
   "cell_type": "code",
   "execution_count": null,
   "metadata": {
    "id": "G99pLAPatbB1"
   },
   "outputs": [],
   "source": [
    "y[-2]"
   ]
  },
  {
   "cell_type": "code",
   "execution_count": null,
   "metadata": {
    "id": "w72QbtJUJIr2"
   },
   "outputs": [],
   "source": [
    "import keras\n",
    "import tensorflow as tf\n",
    "model=keras.models.Sequential([\n",
    "    keras.layers.Dense(input_dim=3,units=70, activation='sigmoid'),\n",
    "    keras.layers.Dense(70, activation='sigmoid'),\n",
    "    keras.layers.Dense(5)\n",
    "    ]\n",
    ")\n",
    "model.compile(\n",
    "    optimizer=tf.optimizers.Adam(learning_rate=0.1),\n",
    "    loss=tf.keras.losses.MeanSquaredError())\n",
    "model.summary()\n",
    "model.fit(x_train,y_train, epochs=100)"
   ]
  },
  {
   "cell_type": "code",
   "execution_count": null,
   "metadata": {
    "id": "GCgsou6YJIr3",
    "outputId": "ad9072d4-481c-4bfd-d5ca-62e548ebf3b7"
   },
   "outputs": [
    {
     "name": "stdout",
     "output_type": "stream",
     "text": [
      "3/3 [==============================] - 0s 1ms/step - loss: 0.3756\n"
     ]
    },
    {
     "data": {
      "text/plain": [
       "0.3756471276283264"
      ]
     },
     "execution_count": 41,
     "metadata": {},
     "output_type": "execute_result"
    }
   ],
   "source": [
    "model.evaluate(x_test,y_test)"
   ]
  },
  {
   "cell_type": "code",
   "execution_count": null,
   "metadata": {
    "id": "17m0YXMrJIr4"
   },
   "outputs": [],
   "source": [
    "# def train(dataloader, model, loss_fn, optimizer):\n",
    "#     size = len(dataloader.dataset)\n",
    "#     model.train()\n",
    "#     for batch, (X, y) in enumerate(dataloader):\n",
    "#         X, y = X.to(device), y.to(device)\n",
    "\n",
    "#         # Compute prediction erro\n",
    "#         pred = model(X)\n",
    "#         loss = loss_fn(pred, y)\n",
    "\n",
    "#         # Backpropagation\n",
    "#         optimizer.zero_grad()\n",
    "#         loss.backward()\n",
    "#         optimizer.step()\n",
    "\n",
    "#         if batch % 100 == 0:\n",
    "#             loss, current = loss.item(), batch * len(X)\n",
    "#             print(f\"loss: {loss:>7f}  [{current:>5d}/{size:>5d}]\")"
   ]
  },
  {
   "cell_type": "code",
   "execution_count": null,
   "metadata": {
    "id": "dS3zTMOFJIr5"
   },
   "outputs": [],
   "source": []
  },
  {
   "cell_type": "code",
   "execution_count": null,
   "metadata": {
    "id": "shkAoBMjJIr6"
   },
   "outputs": [],
   "source": []
  },
  {
   "cell_type": "code",
   "execution_count": null,
   "metadata": {
    "id": "zB1xSwJOJIr7",
    "outputId": "0c0aa668-bb75-439c-c17b-823f3979589b"
   },
   "outputs": [
    {
     "name": "stdout",
     "output_type": "stream",
     "text": [
      "(400, 3)\n",
      "(400, 5)\n"
     ]
    }
   ],
   "source": [
    "endp=np.loadtxt('D:/nvh/DMP/_RUN/IK/endpoint.txt')\n",
    "qfile=np.loadtxt(\"D:/nvh/DMP/_RUN/IK/q_e.txt\")\n",
    "print(endp.shape)\n",
    "print(qfile.shape)"
   ]
  },
  {
   "cell_type": "code",
   "execution_count": null,
   "metadata": {
    "id": "sQNcDEf6JIr8"
   },
   "outputs": [],
   "source": [
    "x_train, x_test, y_train, y_test=train_test_split(endp,qfile, test_size=0.2)"
   ]
  },
  {
   "cell_type": "code",
   "execution_count": null,
   "metadata": {
    "id": "VsKcWgGXJIr9"
   },
   "outputs": [],
   "source": [
    "network = Input(3) >> Sigmoid(7) >> Linear(5)\n",
    "optimizer = algorithms.LevenbergMarquardt(network)\n",
    "optimizer.train(x_train, y_train)"
   ]
  },
  {
   "cell_type": "code",
   "execution_count": null,
   "metadata": {
    "id": "Z6r_rpotJIr-"
   },
   "outputs": [],
   "source": []
  },
  {
   "cell_type": "code",
   "execution_count": null,
   "metadata": {
    "id": "5CHFclvuJIr-",
    "outputId": "a02783d1-80ad-4fb4-d46d-68ee3444e892"
   },
   "outputs": [
    {
     "data": {
      "text/plain": [
       "1.0987895288683376"
      ]
     },
     "execution_count": 8,
     "metadata": {},
     "output_type": "execute_result"
    }
   ],
   "source": [
    "(optimizer.predict(x_test)-y_test).max()"
   ]
  },
  {
   "cell_type": "code",
   "execution_count": null,
   "metadata": {
    "id": "KQPNUVuhJIr_",
    "outputId": "12bb178c-3f1f-4444-aa9c-6f04f9730476"
   },
   "outputs": [
    {
     "data": {
      "text/plain": [
       "array(0.0890753)"
      ]
     },
     "execution_count": 9,
     "metadata": {},
     "output_type": "execute_result"
    }
   ],
   "source": [
    "\n",
    "optimizer.prediction_error(x_test,y_test)"
   ]
  },
  {
   "cell_type": "code",
   "execution_count": null,
   "metadata": {
    "id": "QIFgz1XrJIsA",
    "outputId": "4a1077ed-14a8-4d7c-e634-8a8b73be4e66"
   },
   "outputs": [
    {
     "data": {
      "text/plain": [
       "4.585987261146497"
      ]
     },
     "execution_count": 10,
     "metadata": {},
     "output_type": "execute_result"
    }
   ],
   "source": [
    "0.08*180/3.14\n"
   ]
  },
  {
   "cell_type": "code",
   "execution_count": null,
   "metadata": {
    "id": "IKKcbcIpJIsA"
   },
   "outputs": [],
   "source": []
  }
 ],
 "metadata": {
  "accelerator": "GPU",
  "colab": {
   "collapsed_sections": [],
   "name": "LM.ipynb",
   "version": ""
  },
  "interpreter": {
   "hash": "183bbf6827d058c2a2fb0f4acdc0420849dda2b4380af0e437e38c64d798d8b7"
  },
  "kernelspec": {
   "display_name": "Python 3 (ipykernel)",
   "language": "python",
   "name": "python3"
  },
  "language_info": {
   "codemirror_mode": {
    "name": "ipython",
    "version": 3
   },
   "file_extension": ".py",
   "mimetype": "text/x-python",
   "name": "python",
   "nbconvert_exporter": "python",
   "pygments_lexer": "ipython3",
   "version": "3.9.2"
  }
 },
 "nbformat": 4,
 "nbformat_minor": 1
}
